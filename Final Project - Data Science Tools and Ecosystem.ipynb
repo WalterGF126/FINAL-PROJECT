{
 "cells": [
  {
   "cell_type": "markdown",
   "id": "e5d3c85c-5d82-4439-abd7-3a568f293e6f",
   "metadata": {},
   "source": [
    "# Final Project - Data Science Tools and Ecosystem"
   ]
  },
  {
   "cell_type": "markdown",
   "id": "ad2908bc-3eee-4fb9-a62c-a73a8ff174ab",
   "metadata": {},
   "source": [
    "## Introduction\n",
    "In this notebook, we will summarize some of the key tools, libraries, and languages used in data science.\n"
   ]
  },
  {
   "cell_type": "markdown",
   "id": "cfdbd4b6-9fab-4b82-975f-0e632a2a1ed2",
   "metadata": {},
   "source": [
    "## Data Science Languages\n",
    "\n",
    "Some of the most popular languages used in Data Science are:\n",
    "\n",
    "1. Python  \n",
    "2. R  \n",
    "3. SQL  \n",
    "4. Julia  \n",
    "5. Scala"
   ]
  },
  {
   "cell_type": "markdown",
   "id": "25ab9597-742c-4202-ad28-1aa58b5fd5ff",
   "metadata": {},
   "source": [
    "## Data Science Libraries\n",
    "\n",
    "Commonly used libraries in Data Science include:\n",
    "\n",
    "1. Pandas  \n",
    "2. NumPy  \n",
    "3. Matplotlib  \n",
    "4. Scikit-learn  \n",
    "5. TensorFlow  \n",
    "6. Keras\n"
   ]
  },
  {
   "cell_type": "markdown",
   "id": "2401d0e2-4a83-4f55-bada-a1f5539d36e3",
   "metadata": {},
   "source": [
    "## Data Science Tools\n",
    "\n",
    "| Tool              | Description                      |\n",
    "|-------------------|----------------------------------|\n",
    "| Jupyter Notebook  | Interactive coding environment   |\n",
    "| RStudio           | IDE for R language               |\n",
    "| Apache Spark      | Big data processing framework    |\n",
    "| Tableau           | Data visualization tool          |\n",
    "| GitHub            | Code sharing and collaboration   |\n"
   ]
  },
  {
   "cell_type": "markdown",
   "id": "3bc15528-d2e1-4883-8b4b-095ab0ba11e9",
   "metadata": {},
   "source": [
    "## Arithmetic Expressions Examples\n",
    "\n",
    "Below are examples of arithmetic expressions in Python:\n",
    "\n",
    "- `5 + 3` adds two numbers  \n",
    "- `10 * 2` multiplies two numbers  \n",
    "- `(4 + 6) / 2` combines addition and division\n"
   ]
  },
  {
   "cell_type": "markdown",
   "id": "c74cd04a-d08a-41a3-965a-4b7b5627f097",
   "metadata": {},
   "source": [
    "## Code to multiply and add"
   ]
  },
  {
   "cell_type": "code",
   "execution_count": 6,
   "id": "a30e8ee3-6a6f-4732-8f74-4a07fce36810",
   "metadata": {},
   "outputs": [
    {
     "name": "stdout",
     "output_type": "stream",
     "text": [
      "Suma: 9\n",
      "Multiplicación: 20\n"
     ]
    }
   ],
   "source": [
    "num1 = 5\n",
    "num2 = 4\n",
    "\n",
    "suma = num1 + num2\n",
    "multiplicacion = num1 * num2\n",
    "\n",
    "print(\"Suma:\", suma)\n",
    "print(\"Multiplicación:\", multiplicacion)"
   ]
  },
  {
   "cell_type": "markdown",
   "id": "b94815ac-dea9-4a90-ac69-a69ac835d822",
   "metadata": {},
   "source": [
    "## Code to convert minutes to hours"
   ]
  },
  {
   "cell_type": "code",
   "execution_count": 7,
   "id": "29703784-20d5-4c87-b5dd-6f21323ae6f7",
   "metadata": {},
   "outputs": [
    {
     "name": "stdout",
     "output_type": "stream",
     "text": [
      "450 minutos son 7 hora(s) y 30 minuto(s).\n"
     ]
    }
   ],
   "source": [
    "minutos = 450 \n",
    "\n",
    "horas = minutos // 60\n",
    "min_restantes = minutos % 60\n",
    "\n",
    "print(f\"{minutos} minutos son {horas} hora(s) y {min_restantes} minuto(s).\")"
   ]
  },
  {
   "cell_type": "markdown",
   "id": "a0eed78f-d99e-4edc-9658-bf19c11bf65b",
   "metadata": {},
   "source": [
    "## Code to list Objectives"
   ]
  },
  {
   "cell_type": "markdown",
   "id": "fb40b2a9-b11b-4e35-9c96-fa5a043bea40",
   "metadata": {},
   "source": [
    "Here are some important personal goals for this year:\n",
    "\n",
    "- Improve my programming skills.  \n",
    "- Read at least one book per month.  \n",
    "- Maintain a consistent exercise routine.  \n",
    "- Learn a new language.  \n",
    "- Manage my study time more effectively.  \n",
    "- Save a portion of my monthly income.  \n",
    "- Participate in group projects or volunteer work.  \n",
    "- Develop a business idea.  \n",
    "- Strengthen personal relationships.  \n",
    "- Take care of my mental and physical health.\n"
   ]
  },
  {
   "cell_type": "markdown",
   "id": "395adb58-4835-4bc2-adad-25c6239428ca",
   "metadata": {},
   "source": [
    "## Author's name"
   ]
  },
  {
   "cell_type": "markdown",
   "id": "52f731b8-7a8d-4e43-a4bd-3198710f9cab",
   "metadata": {},
   "source": [
    "#### Walter Gomez"
   ]
  },
  {
   "cell_type": "code",
   "execution_count": null,
   "id": "1c0d00b9-933e-4d65-99da-0bfa4264afd9",
   "metadata": {},
   "outputs": [],
   "source": []
  }
 ],
 "metadata": {
  "kernelspec": {
   "display_name": "Python 3 (ipykernel)",
   "language": "python",
   "name": "python3"
  },
  "language_info": {
   "codemirror_mode": {
    "name": "ipython",
    "version": 3
   },
   "file_extension": ".py",
   "mimetype": "text/x-python",
   "name": "python",
   "nbconvert_exporter": "python",
   "pygments_lexer": "ipython3",
   "version": "3.12.8"
  }
 },
 "nbformat": 4,
 "nbformat_minor": 5
}
